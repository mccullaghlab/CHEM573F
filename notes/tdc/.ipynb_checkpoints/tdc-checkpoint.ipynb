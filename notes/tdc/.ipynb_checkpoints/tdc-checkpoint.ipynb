{
 "cells": [
  {
   "cell_type": "code",
   "execution_count": 1,
   "metadata": {},
   "outputs": [],
   "source": [
    "import numpy as np"
   ]
  },
  {
   "cell_type": "code",
   "execution_count": 84,
   "metadata": {},
   "outputs": [],
   "source": [
    "def tdc_coupling(u1,u2,r):\n",
    "    rMag = np.linalg.norm(r)\n",
    "    return (np.dot(u1,u2)/(rMag**3) - 3.0*(np.dot(u1,r)*np.dot(u2,r))/(rMag**5)) # this will convert it to cm^-2*atm^-1"
   ]
  },
  {
   "cell_type": "code",
   "execution_count": 85,
   "metadata": {},
   "outputs": [],
   "source": [
    "class freq:\n",
    "    \n",
    "    dipoleUnitConvert = 1.0/np.sqrt(42.2561)*3.1623E20\n",
    "    dipoleUnitConvert = np.sqrt(6.15488E-33)\n",
    "    #forceConstantUnitConvert = 1E-12\n",
    "    forceConstantUnitConvert = 1\n",
    "    \n",
    "    def __init__(self,logFileName):\n",
    "        log = open(logFileName,\"r\")\n",
    "        xyz = []\n",
    "        self.frequencies = []\n",
    "        self.ramanIntensities = []\n",
    "        self.irIntensities = []\n",
    "        self.dipoleDerivative = []\n",
    "        self.dipoleMoment = []\n",
    "        self.atomPositions = []\n",
    "        self.reducedMasses = []\n",
    "        self.forceConstant = []\n",
    "        dipoleDerivativeCount = 0\n",
    "        normalModeCount = 0\n",
    "        for line in log:\n",
    "            if \"NAtoms=\" in line:\n",
    "                temp = line.split()\n",
    "                self.nAtoms = int(temp[1])\n",
    "            elif \"Center     Atomic      Atomic             Coordinates (Angstroms)\" in line:\n",
    "                log.readline()\n",
    "                log.readline()\n",
    "                readCoor = \"pass\"\n",
    "                atom = 0\n",
    "                while readCoor == \"pass\":\n",
    "                    temp = log.readline()\n",
    "                    if \"-------------------------------------------------------------------\" in temp:\n",
    "                        readCoor = \"done\"\n",
    "                    else:\n",
    "                        temp = temp.split()\n",
    "                        self.atomPositions.append([])\n",
    "                        for k in range(3):\n",
    "                            self.atomPositions[atom].append(float(temp[k+3]))\n",
    "                        atom += 1\n",
    "                self.atomPositions = np.array(self.atomPositions)\n",
    "            elif \"Dipole derivatives wrt mode\" in line:\n",
    "                temp = line.split(\":\")[1].split()\n",
    "                self.dipoleDerivative.append([])\n",
    "                for i in range(len(temp)):\n",
    "                    self.dipoleDerivative[dipoleDerivativeCount].append(float(temp[i].replace('D','E')))\n",
    "                dipoleDerivativeCount += 1\n",
    "            elif \" Dipole moment (field-independent basis, Debye):\" in line:\n",
    "                temp = log.readline().split()\n",
    "                for i in range(3):\n",
    "                    self.dipoleMoment.append(float(temp[i*2+1]))\n",
    "            elif \"Frequencies -- \" in line:\n",
    "                for temp in line.split('--')[1].split():\n",
    "                    self.frequencies.append(float(temp))\n",
    "            elif \"Red. masses -- \" in line:\n",
    "                for temp in line.split('--')[1].split():\n",
    "                    self.reducedMasses.append(float(temp))\n",
    "            elif \"Frc consts\" in line:\n",
    "                for temp in line.split('--')[1].split():\n",
    "                    self.forceConstant.append(float(temp))\n",
    "            elif \"IR Inten    --\" in line:\n",
    "                for temp in line.split('--')[1].split():\n",
    "                    self.irIntensities.append(float(temp))\n",
    "            elif \"Raman Activ --\" in line:\n",
    "                for temp in line.split('--')[1].split():\n",
    "                    self.ramanIntensities.append(float(temp))\n",
    "            elif \"Atom  AN      X      Y      Z\" in line:\n",
    "                tempXyz = []\n",
    "                for atom in range(self.nAtoms):\n",
    "                    temp = log.readline().split()\n",
    "                    tempXyz.append([])\n",
    "                    for i in range(2,len(temp)):\n",
    "                        tempXyz[atom].append(float(temp[i]))\n",
    "                tempXyz = np.array(tempXyz)\n",
    "                if normalModeCount == 0:\n",
    "                    self.normalModes = np.copy(tempXyz)\n",
    "                else:\n",
    "                    self.normalModes = np.column_stack((self.normalModes,tempXyz))\n",
    "                normalModeCount += 1\n",
    "        log.close()\n",
    "        self.nModes = len(self.frequencies)\n",
    "        self.frequencies = np.array(self.frequencies)\n",
    "        self.reducedMasses = np.array(self.reducedMasses)\n",
    "        self.forceConstant = np.array(self.forceConstant)*self.forceConstantUnitConvert\n",
    "        vals, self.molecularBasis = np.linalg.eigh(np.dot(self.atomPositions.T,self.atomPositions))\n",
    "        self.dipoleDerivative = np.array(self.dipoleDerivative)*self.dipoleUnitConvert\n",
    "        self.dipoleDerivativeMolecularBasis = np.dot(self.dipoleDerivative,self.molecularBasis).T\n",
    "        self.oscStrength = np.empty(self.nModes,dtype=float)\n",
    "        for i in range(self.nModes):\n",
    "            self.oscStrength[i] = np.linalg.norm(self.dipoleDerivative[i,:])"
   ]
  },
  {
   "cell_type": "code",
   "execution_count": 86,
   "metadata": {},
   "outputs": [],
   "source": [
    "h2oMonomer = freq(\"h2o_tdc_calc.log\")"
   ]
  },
  {
   "cell_type": "code",
   "execution_count": 87,
   "metadata": {},
   "outputs": [
    {
     "data": {
      "text/plain": [
       "array([[-5.56893436e-16, -6.95701190e-27, -3.93582443e-16],\n",
       "       [-8.30739275e-17,  4.08565405e-26, -5.78906575e-17],\n",
       "       [ 1.97827978e-16,  1.55449998e-26, -2.80257807e-16]])"
      ]
     },
     "execution_count": 87,
     "metadata": {},
     "output_type": "execute_result"
    }
   ],
   "source": [
    "h2oMonomer.dipoleDerivative"
   ]
  },
  {
   "cell_type": "code",
   "execution_count": 88,
   "metadata": {},
   "outputs": [],
   "source": [
    "H0 = np.diag(np.concatenate((h2oMonomer.frequencies,h2oMonomer.frequencies)))"
   ]
  },
  {
   "cell_type": "code",
   "execution_count": 89,
   "metadata": {},
   "outputs": [
    {
     "data": {
      "text/plain": [
       "array([[1714.2948,    0.    ,    0.    ,    0.    ,    0.    ,    0.    ],\n",
       "       [   0.    , 3724.0451,    0.    ,    0.    ,    0.    ,    0.    ],\n",
       "       [   0.    ,    0.    , 3845.2651,    0.    ,    0.    ,    0.    ],\n",
       "       [   0.    ,    0.    ,    0.    , 1714.2948,    0.    ,    0.    ],\n",
       "       [   0.    ,    0.    ,    0.    ,    0.    , 3724.0451,    0.    ],\n",
       "       [   0.    ,    0.    ,    0.    ,    0.    ,    0.    , 3845.2651]])"
      ]
     },
     "execution_count": 89,
     "metadata": {},
     "output_type": "execute_result"
    }
   ],
   "source": [
    "H0"
   ]
  },
  {
   "cell_type": "code",
   "execution_count": 90,
   "metadata": {},
   "outputs": [],
   "source": [
    "h2o1Positions = np.array([[1.499561,    0.481781,   -0.223847],[2.016679,   -0.308853,   -0.005570],[0.941077,    0.617162,    0.560577]])\n",
    "h2o2Positions = np.array([[-1.190888,   -0.054614,    0.209353],[-0.484323,   -0.083043,   -0.460235],[-1.760870,    0.672061,   -0.083951]])"
   ]
  },
  {
   "cell_type": "code",
   "execution_count": 91,
   "metadata": {},
   "outputs": [],
   "source": [
    "vals, h2o1MolecularBasis = np.linalg.eigh(np.dot((h2o1Positions-np.mean(h2o1Positions,axis=0)),(h2o1Positions-np.mean(h2o1Positions,axis=0))))\n",
    "vals, h2o2MolecularBasis = np.linalg.eigh(np.dot((h2o2Positions-np.mean(h2o2Positions,axis=0)),(h2o2Positions-np.mean(h2o2Positions,axis=0))))"
   ]
  },
  {
   "cell_type": "code",
   "execution_count": 92,
   "metadata": {},
   "outputs": [],
   "source": [
    "V = np.zeros(H0.shape,dtype=float)\n",
    "for mode1 in range(h2oMonomer.nModes):\n",
    "    for mode2 in range(h2oMonomer.nModes):\n",
    "        r = np.mean(h2o2Positions,axis=0) - np.mean(h2o1Positions,axis=0)\n",
    "        u1 = np.dot(h2o1MolecularBasis.T,h2oMonomer.dipoleDerivativeMolecularBasis[:,mode1]) \n",
    "        u2 = np.dot(h2o2MolecularBasis.T,h2oMonomer.dipoleDerivativeMolecularBasis[:,mode2])\n",
    "        V[mode1 + h2oMonomer.nModes, mode2] = tdc_coupling(u1,u2,r)\n",
    "        #symmertrize\n",
    "        V[mode2, mode1 + h2oMonomer.nModes] = V[mode1 + h2oMonomer.nModes, mode2]"
   ]
  },
  {
   "cell_type": "code",
   "execution_count": 93,
   "metadata": {},
   "outputs": [
    {
     "data": {
      "text/plain": [
       "array([[ 0.00000000e+00,  0.00000000e+00,  0.00000000e+00,\n",
       "         3.45702886e-33,  4.92944037e-34,  1.04066337e-32],\n",
       "       [ 0.00000000e+00,  0.00000000e+00,  0.00000000e+00,\n",
       "         5.47106637e-34,  7.82280976e-35,  1.53692661e-33],\n",
       "       [ 0.00000000e+00,  0.00000000e+00,  0.00000000e+00,\n",
       "        -1.72878151e-32, -2.57511999e-33,  4.21374473e-33],\n",
       "       [ 3.45702886e-33,  5.47106637e-34, -1.72878151e-32,\n",
       "         0.00000000e+00,  0.00000000e+00,  0.00000000e+00],\n",
       "       [ 4.92944037e-34,  7.82280976e-35, -2.57511999e-33,\n",
       "         0.00000000e+00,  0.00000000e+00,  0.00000000e+00],\n",
       "       [ 1.04066337e-32,  1.53692661e-33,  4.21374473e-33,\n",
       "         0.00000000e+00,  0.00000000e+00,  0.00000000e+00]])"
      ]
     },
     "execution_count": 93,
     "metadata": {},
     "output_type": "execute_result"
    }
   ],
   "source": [
    "V"
   ]
  },
  {
   "cell_type": "code",
   "execution_count": 94,
   "metadata": {},
   "outputs": [],
   "source": [
    "H1 = H0 + V"
   ]
  },
  {
   "cell_type": "code",
   "execution_count": 95,
   "metadata": {},
   "outputs": [],
   "source": [
    "vals, vecs = np.linalg.eigh(H1)"
   ]
  },
  {
   "cell_type": "code",
   "execution_count": 96,
   "metadata": {},
   "outputs": [
    {
     "data": {
      "text/plain": [
       "array([1714.2948, 1714.2948, 3724.0451, 3724.0451, 3845.2651, 3845.2651])"
      ]
     },
     "execution_count": 96,
     "metadata": {},
     "output_type": "execute_result"
    }
   ],
   "source": [
    "vals"
   ]
  },
  {
   "cell_type": "code",
   "execution_count": null,
   "metadata": {},
   "outputs": [],
   "source": []
  }
 ],
 "metadata": {
  "kernelspec": {
   "display_name": "Python 3",
   "language": "python",
   "name": "python3"
  },
  "language_info": {
   "codemirror_mode": {
    "name": "ipython",
    "version": 3
   },
   "file_extension": ".py",
   "mimetype": "text/x-python",
   "name": "python",
   "nbconvert_exporter": "python",
   "pygments_lexer": "ipython3",
   "version": "3.7.1"
  }
 },
 "nbformat": 4,
 "nbformat_minor": 2
}
