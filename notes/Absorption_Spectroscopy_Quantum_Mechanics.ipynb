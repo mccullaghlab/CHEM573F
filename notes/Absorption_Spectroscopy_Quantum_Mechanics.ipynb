{
 "cells": [
  {
   "cell_type": "markdown",
   "metadata": {},
   "source": [
    "# Absorption Spectroscopy"
   ]
  },
  {
   "cell_type": "markdown",
   "metadata": {},
   "source": [
    "Absorption spectroscopy involves the absorption of light be a molecule/molecular system.  Light produces an electromagnetic field, $\\mathbf{E}$, which can be approximatly written as\n",
    "\n",
    "$\\mathbf{E} = \\mathbf{E}_0 cos2\\pi\\nu t$,\n",
    "\n",
    "where $\\nu$ is the frequency of the radiation and $\\mathbf{E}_0$ is the electric field vector.  Note that this field is for monochromatic light and has an explicit time dependence.  \n",
    "\n",
    "Hitting a system with this light leads to a change in the Hamiltonian of the system.  That is, the wavefunction of the molecule is perturbed by the presence of the electromagnetic field.  The perturbation to the Hamiltonian can be written as\n",
    "\n",
    "$\\hat{H}^{(1)} = -\\mathbf{\\mu}\\cdot\\mathbf{E} = -\\mathbf{\\mu}\\mathbf{E}_0 cos2\\pi\\nu t$\n",
    "\n",
    "where $\\mu$ is the dipole moment of the molecule.  The complete Hamiltonian for the system is then\n",
    "\n",
    "$\\hat{H} = \\hat{H}^{(0)} + \\hat{H}^{(1)}$,\n",
    "\n",
    "where $\\hat{H}^{(0)}$ is the Hamiltonian of the isolated molecule.   This Hamiltonian has explicit time dependence so we cannot solve the stationary state Schrodinger equation.  This problem can be solved using *time-dependent perturbation theory* but we will not do so now.  Instead we will use some of the results from this solution.  "
   ]
  },
  {
   "cell_type": "markdown",
   "metadata": {},
   "source": [
    "## Transition dipole moment"
   ]
  },
  {
   "cell_type": "markdown",
   "metadata": {},
   "source": [
    "Time-dependent perturbation theory on the above Hamiltonian leads to defining what is called the *transition dipole moment* for a molecule.  This is defined as\n",
    "\n",
    "$\\langle \\nu | \\mu_z | \\nu'\\rangle = \\int_{-\\infty}^{\\infty} \\psi_\\nu(x)\\mu_z(x)\\psi_{\\nu'}(x)dx$,\n",
    "\n",
    "where $\\nu\\rangle$ are stationary state solutions of the $\\hat{H}^{(0)}$ Hamiltonian (isolated molecule).  This quantity dictates the absorpition of a transition from state $\\nu$ to a state $\\nu'$.  \n",
    "\n",
    "We now expand $\\mu_z(x)$ about the equilibrium position ($x=0$)\n",
    "\n",
    "$\\mu_z(x) = \\mu_0 + \\left( \\frac{d\\mu}{dx}\\right)_0x + ...$\n",
    "\n",
    "where $\\mu_0$ is the dipole moment at the equilibrium position and $x$ is the displacement from that position.  Substituting this expansion truncated to second order into the transition dipole moment we get\n",
    "\n",
    "$\\langle \\nu | \\mu_z | \\nu'\\rangle = \\mu_0 \\langle \\nu | \\nu'\\rangle + \\left( \\frac{d\\mu}{dx}\\right)_0 \\langle \\nu |x| \\nu'\\rangle $."
   ]
  },
  {
   "cell_type": "markdown",
   "metadata": {},
   "source": [
    "**Harmonic Oscillator** \n",
    "\n",
    "The above expression is for a general $\\hat{H}^{(0)}$.  We now investigate the Harmonic Oscillator (HO) system with $\\hat{H}^{(0)} = -\\frac{\\hbar^2}{2\\mu}\\frac{d^2}{dx^2}$.  The first term on the right-hand side of the above equality is zero for $\\nu \\neq \\nu'$ due to the orthogonality of HO wavefunctions.  In order to assess the value of the second term, we must recall that the generic HO wavefunction is given as\n",
    "\n",
    "$\\psi_\\nu(x) = N_\\nu H_\\nu(\\alpha^{1/2}x)e^{-\\alpha x^2/2}$\n",
    "\n",
    "where $H_\\nu(\\alpha^{1/2}x)$ is a Hermite polynomial.  There are a few properties of Hermite polynomials that are quite important.  One is that they are orthogonal.  The one we will use to investigate the transition dipole moment is\n",
    "\n",
    "$xH_\\nu(x) = \\nu H_{\\nu-1}(x) + \\frac{1}{2}H_{\\nu+1}(x)$.  \n",
    "\n",
    "If we plug this relationship into the integral above we get\n",
    "\n",
    "$\\langle \\nu | \\mu_z | \\nu'\\rangle =  \\left( \\frac{d\\mu}{dx}\\right)_0 \\langle \\nu |x| \\nu'\\rangle = \\frac{N_\\nu N_{\\nu'}}{\\alpha}\\left( \\frac{d\\mu}{dx}\\right)_0\\int_{-\\infty}^{\\infty} H_{\\nu'}(\\xi)\\left[\\nu H_{\\nu-1}(\\xi) + \\frac{1}{2}H_{\\nu+1}(\\xi)\\right]e^{-\\xi^2}d\\xi$,\n",
    "\n",
    "where we have made the substition $\\xi = \\alpha^{1/2}x$.  Observe that the above equation is nonzero except when $\\nu' = \\nu \\pm 1$.  This demonstrates the selection rule for a harmonic oscillator."
   ]
  },
  {
   "cell_type": "markdown",
   "metadata": {},
   "source": [
    "## Selection Rules "
   ]
  },
  {
   "cell_type": "markdown",
   "metadata": {},
   "source": [
    "\n",
    "$\\Delta \\nu = \\pm 1$"
   ]
  },
  {
   "cell_type": "code",
   "execution_count": 13,
   "metadata": {},
   "outputs": [
    {
     "name": "stdout",
     "output_type": "stream",
     "text": [
      "('<0|x|0> = ', 5.5511151231257827e-17)\n",
      "('<0|x|1> = ', -0.70710678118654746)\n",
      "('<0|x|2> = ', 2.7755575615628914e-17)\n",
      "('<1|x|2> = ', -1.0)\n"
     ]
    }
   ],
   "source": [
    "# lets quantify this for HO wavefunctions\n",
    "import numpy as np\n",
    "from scipy import integrate\n",
    "from scipy.special import hermite\n",
    "from scipy.special import factorial\n",
    "# start by defining N function for analytic solution to HO wavefunctions\n",
    "def Nn(n,alpha):\n",
    "    return 1/np.sqrt(2**n*factorial(n))*(alpha/np.pi)**0.25\n",
    "def ho_psi(n,x):\n",
    "    x2 = np.power(x,2)\n",
    "    return (-1)**n*Nn(n,alpha)*hermite(n)(np.sqrt(alpha)*x)*np.exp(-alpha*x2/2.0)\n",
    "hbar = 1.0\n",
    "k = 1.0\n",
    "m = 1.0\n",
    "alpha = np.sqrt(k*m)/hbar\n",
    "x = np.arange(-20,20,0.01)\n",
    "psi0 = ho_psi(0,x)\n",
    "psi1 = ho_psi(1,x)\n",
    "psi2 = ho_psi(2,x)\n",
    "\n",
    "print(\"<0|x|0> = \", integrate.simps(psi0*x*psi0,x))\n",
    "print(\"<0|x|1> = \", integrate.simps(psi0*x*psi1,x))\n",
    "print(\"<0|x|2> = \", integrate.simps(psi0*x*psi2,x))\n",
    "print(\"<1|x|2> = \", integrate.simps(psi1*x*psi2,x))"
   ]
  },
  {
   "cell_type": "code",
   "execution_count": null,
   "metadata": {},
   "outputs": [],
   "source": []
  }
 ],
 "metadata": {
  "kernelspec": {
   "display_name": "Python 2",
   "language": "python",
   "name": "python2"
  },
  "language_info": {
   "codemirror_mode": {
    "name": "ipython",
    "version": 2
   },
   "file_extension": ".py",
   "mimetype": "text/x-python",
   "name": "python",
   "nbconvert_exporter": "python",
   "pygments_lexer": "ipython2",
   "version": "2.7.14"
  }
 },
 "nbformat": 4,
 "nbformat_minor": 2
}
