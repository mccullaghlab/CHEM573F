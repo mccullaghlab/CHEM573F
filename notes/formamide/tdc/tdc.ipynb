{
 "cells": [
  {
   "cell_type": "code",
   "execution_count": 97,
   "metadata": {},
   "outputs": [],
   "source": [
    "import numpy as np"
   ]
  },
  {
   "cell_type": "code",
   "execution_count": 98,
   "metadata": {},
   "outputs": [],
   "source": [
    "convert = 1E30*(3.1625E-25)**2\n",
    "def tdc_coupling(u1,u2,r):\n",
    "    rMag = np.linalg.norm(r)\n",
    "    return (np.dot(u1,u2)/(rMag**3) - 3.0*(np.dot(u1,r)*np.dot(u2,r))/(rMag**5))*convert"
   ]
  },
  {
   "cell_type": "code",
   "execution_count": 140,
   "metadata": {},
   "outputs": [],
   "source": [
    "class freq:\n",
    "    \n",
    "    dipoleUnitConvert = 1.0/np.sqrt(42.2561)\n",
    "    forceConstantUnitConvert = 1E-18\n",
    "    \n",
    "    def __init__(self,logFileName):\n",
    "        log = open(logFileName,\"r\")\n",
    "        xyz = []\n",
    "        self.frequencies = []\n",
    "        self.ramanIntensities = []\n",
    "        self.irIntensities = []\n",
    "        self.dipoleDerivative = []\n",
    "        self.dipoleMoment = []\n",
    "        self.atomPositions = []\n",
    "        self.reducedMasses = []\n",
    "        self.forceConstant = []\n",
    "        dipoleDerivativeCount = 0\n",
    "        normalModeCount = 0\n",
    "        for line in log:\n",
    "            if \"NAtoms=\" in line:\n",
    "                temp = line.split()\n",
    "                self.nAtoms = int(temp[1])\n",
    "            elif \"Center     Atomic      Atomic             Coordinates (Angstroms)\" in line:\n",
    "                log.readline()\n",
    "                log.readline()\n",
    "                readCoor = \"pass\"\n",
    "                atom = 0\n",
    "                while readCoor == \"pass\":\n",
    "                    temp = log.readline()\n",
    "                    if \"-------------------------------------------------------------------\" in temp:\n",
    "                        readCoor = \"done\"\n",
    "                    else:\n",
    "                        temp = temp.split()\n",
    "                        self.atomPositions.append([])\n",
    "                        for k in range(3):\n",
    "                            self.atomPositions[atom].append(float(temp[k+3]))\n",
    "                        atom += 1\n",
    "                self.atomPositions = np.array(self.atomPositions)\n",
    "            elif \"Dipole derivatives wrt mode\" in line:\n",
    "                temp = line.split(\":\")[1].split()\n",
    "                self.dipoleDerivative.append([])\n",
    "                for i in range(len(temp)):\n",
    "                    self.dipoleDerivative[dipoleDerivativeCount].append(float(temp[i].replace('D','E')))\n",
    "                dipoleDerivativeCount += 1\n",
    "            elif \" Dipole moment (field-independent basis, Debye):\" in line:\n",
    "                temp = log.readline().split()\n",
    "                for i in range(3):\n",
    "                    self.dipoleMoment.append(float(temp[i*2+1]))\n",
    "            elif \"Frequencies -- \" in line:\n",
    "                for temp in line.split('--')[1].split():\n",
    "                    self.frequencies.append(float(temp))\n",
    "            elif \"Red. masses -- \" in line:\n",
    "                for temp in line.split('--')[1].split():\n",
    "                    self.reducedMasses.append(float(temp))\n",
    "            elif \"Frc consts\" in line:\n",
    "                for temp in line.split('--')[1].split():\n",
    "                    self.forceConstant.append(float(temp))\n",
    "            elif \"IR Inten    --\" in line:\n",
    "                for temp in line.split('--')[1].split():\n",
    "                    self.irIntensities.append(float(temp))\n",
    "            elif \"Raman Activ --\" in line:\n",
    "                for temp in line.split('--')[1].split():\n",
    "                    self.ramanIntensities.append(float(temp))\n",
    "            elif \"Atom  AN      X      Y      Z\" in line:\n",
    "                tempXyz = []\n",
    "                for atom in range(self.nAtoms):\n",
    "                    temp = log.readline().split()\n",
    "                    tempXyz.append([])\n",
    "                    for i in range(2,len(temp)):\n",
    "                        tempXyz[atom].append(float(temp[i]))\n",
    "                tempXyz = np.array(tempXyz)\n",
    "                if normalModeCount == 0:\n",
    "                    self.normalModes = np.copy(tempXyz)\n",
    "                else:\n",
    "                    self.normalModes = np.column_stack((self.normalModes,tempXyz))\n",
    "                normalModeCount += 1\n",
    "        log.close()\n",
    "        self.nModes = len(self.frequencies)\n",
    "        self.irIntensities = np.array(self.irIntensities)\n",
    "        self.frequencies = np.array(self.frequencies)\n",
    "        self.reducedMasses = np.array(self.reducedMasses)\n",
    "        self.forceConstant = np.array(self.forceConstant)*self.forceConstantUnitConvert\n",
    "        vals, self.molecularBasis = np.linalg.eigh(np.dot(self.atomPositions.T,self.atomPositions))\n",
    "        self.dipoleDerivative = np.array(self.dipoleDerivative)*self.dipoleUnitConvert\n",
    "        self.dipoleDerivativeMolecularBasis = np.dot(self.dipoleDerivative,self.molecularBasis).T\n",
    "        self.oscStrength = np.empty(self.nModes,dtype=float)\n",
    "        for i in range(self.nModes):\n",
    "            self.oscStrength[i] = np.linalg.norm(self.dipoleDerivative[i,:])"
   ]
  },
  {
   "cell_type": "code",
   "execution_count": 141,
   "metadata": {},
   "outputs": [],
   "source": [
    "h2oMonomer = freq(\"h2o_tdc_calc.log\")"
   ]
  },
  {
   "cell_type": "code",
   "execution_count": 102,
   "metadata": {},
   "outputs": [],
   "source": [
    "H0 = np.zeros((6,6),dtype=float)\n",
    "for i in range(3):\n",
    "    H0[i,i] = h2oMonomer.forceConstant[i]/h2oMonomer.reducedMasses[i]\n",
    "    H0[i+3,i+3] = H0[i,i]"
   ]
  },
  {
   "cell_type": "code",
   "execution_count": 103,
   "metadata": {},
   "outputs": [
    {
     "data": {
      "text/plain": [
       "array([[1.73152254e-18, 0.00000000e+00, 0.00000000e+00, 0.00000000e+00,\n",
       "        0.00000000e+00, 0.00000000e+00],\n",
       "       [0.00000000e+00, 8.17103501e-18, 0.00000000e+00, 0.00000000e+00,\n",
       "        0.00000000e+00, 0.00000000e+00],\n",
       "       [0.00000000e+00, 0.00000000e+00, 8.71181423e-18, 0.00000000e+00,\n",
       "        0.00000000e+00, 0.00000000e+00],\n",
       "       [0.00000000e+00, 0.00000000e+00, 0.00000000e+00, 1.73152254e-18,\n",
       "        0.00000000e+00, 0.00000000e+00],\n",
       "       [0.00000000e+00, 0.00000000e+00, 0.00000000e+00, 0.00000000e+00,\n",
       "        8.17103501e-18, 0.00000000e+00],\n",
       "       [0.00000000e+00, 0.00000000e+00, 0.00000000e+00, 0.00000000e+00,\n",
       "        0.00000000e+00, 8.71181423e-18]])"
      ]
     },
     "execution_count": 103,
     "metadata": {},
     "output_type": "execute_result"
    }
   ],
   "source": [
    "H0"
   ]
  },
  {
   "cell_type": "code",
   "execution_count": 104,
   "metadata": {},
   "outputs": [],
   "source": [
    "h2o1Positions = np.array([[1.499561,    0.481781,   -0.223847],[2.016679,   -0.308853,   -0.005570],[0.941077,    0.617162,    0.560577]])\n",
    "h2o2Positions = np.array([[-1.190888,   -0.054614,    0.209353],[-0.484323,   -0.083043,   -0.460235],[-1.760870,    0.672061,   -0.083951]])"
   ]
  },
  {
   "cell_type": "code",
   "execution_count": null,
   "metadata": {},
   "outputs": [],
   "source": []
  },
  {
   "cell_type": "code",
   "execution_count": 105,
   "metadata": {},
   "outputs": [],
   "source": [
    "vals, h2o1MolecularBasis = np.linalg.eigh(np.dot((h2o1Positions-np.mean(h2o1Positions,axis=0)),(h2o1Positions-np.mean(h2o1Positions,axis=0))))\n",
    "vals, h2o2MolecularBasis = np.linalg.eigh(np.dot((h2o2Positions-np.mean(h2o2Positions,axis=0)),(h2o2Positions-np.mean(h2o2Positions,axis=0))))"
   ]
  },
  {
   "cell_type": "code",
   "execution_count": 166,
   "metadata": {},
   "outputs": [],
   "source": [
    "V = np.zeros(H0.shape,dtype=float)\n",
    "for mode1 in range(h2oMonomer.nModes):\n",
    "    for mode2 in range(h2oMonomer.nModes):\n",
    "        r = np.mean(h2o2Positions,axis=0) - np.mean(h2o1Positions,axis=0)\n",
    "        u1 = np.dot(h2o1MolecularBasis.T,h2oMonomer.dipoleDerivativeMolecularBasis[:,mode1]) \n",
    "        u2 = np.dot(h2o2MolecularBasis.T,h2oMonomer.dipoleDerivativeMolecularBasis[:,mode2])\n",
    "        V[mode1 + h2oMonomer.nModes, mode2] = tdc_coupling(u1,u2,r)\n",
    "        #symmertrize\n",
    "        V[mode2, mode1 + h2oMonomer.nModes] = V[mode1 + h2oMonomer.nModes, mode2]"
   ]
  },
  {
   "cell_type": "code",
   "execution_count": 172,
   "metadata": {},
   "outputs": [
    {
     "data": {
      "text/plain": [
       "array([[ 0.00000000e+00,  0.00000000e+00,  0.00000000e+00,\n",
       "         1.32939815e-21,  1.89561303e-22,  4.00186408e-21],\n",
       "       [ 0.00000000e+00,  0.00000000e+00,  0.00000000e+00,\n",
       "         2.10389494e-22,  3.00825630e-23,  5.91024107e-22],\n",
       "       [ 0.00000000e+00,  0.00000000e+00,  0.00000000e+00,\n",
       "        -6.64801784e-21, -9.90260683e-22,  1.62039274e-21],\n",
       "       [ 1.32939815e-21,  2.10389494e-22, -6.64801784e-21,\n",
       "         0.00000000e+00,  0.00000000e+00,  0.00000000e+00],\n",
       "       [ 1.89561303e-22,  3.00825630e-23, -9.90260683e-22,\n",
       "         0.00000000e+00,  0.00000000e+00,  0.00000000e+00],\n",
       "       [ 4.00186408e-21,  5.91024107e-22,  1.62039274e-21,\n",
       "         0.00000000e+00,  0.00000000e+00,  0.00000000e+00]])"
      ]
     },
     "execution_count": 172,
     "metadata": {},
     "output_type": "execute_result"
    }
   ],
   "source": [
    "V"
   ]
  },
  {
   "cell_type": "code",
   "execution_count": 177,
   "metadata": {},
   "outputs": [
    {
     "name": "stdout",
     "output_type": "stream",
     "text": [
      "[[ 1.73152254e-18  0.00000000e+00  0.00000000e+00  1.32939815e-21\n",
      "   1.89561303e-22  4.00186408e-21]\n",
      " [ 0.00000000e+00  8.17103501e-18  0.00000000e+00  2.10389494e-22\n",
      "   3.00825630e-23  5.91024107e-22]\n",
      " [ 0.00000000e+00  0.00000000e+00  8.71181423e-18 -6.64801784e-21\n",
      "  -9.90260683e-22  1.62039274e-21]\n",
      " [ 1.32939815e-21  2.10389494e-22 -6.64801784e-21  1.73152254e-18\n",
      "   0.00000000e+00  0.00000000e+00]\n",
      " [ 1.89561303e-22  3.00825630e-23 -9.90260683e-22  0.00000000e+00\n",
      "   8.17103501e-18  0.00000000e+00]\n",
      " [ 4.00186408e-21  5.91024107e-22  1.62039274e-21  0.00000000e+00\n",
      "   0.00000000e+00  8.71181423e-18]]\n"
     ]
    }
   ],
   "source": [
    "H1 = H0 + V\n",
    "print(H1)"
   ]
  },
  {
   "cell_type": "code",
   "execution_count": 174,
   "metadata": {},
   "outputs": [],
   "source": [
    "vals, vecs = np.linalg.eigh(H1)"
   ]
  },
  {
   "cell_type": "code",
   "execution_count": 175,
   "metadata": {},
   "outputs": [],
   "source": [
    "c = 2.99792458e10 # cm-sec-1\n",
    "energyConvert = 6.02214E46   # convert from J/amu/A^2 to 1/sec^2\n",
    "tdcFreqs = 1/(2*np.pi*c) * np.sqrt(vals*energyConvert)"
   ]
  },
  {
   "cell_type": "code",
   "execution_count": 176,
   "metadata": {},
   "outputs": [
    {
     "data": {
      "text/plain": [
       "array([1713.64794255, 1714.96412586, 3724.02472854, 3724.03843981,\n",
       "       3844.93410066, 3845.64932072])"
      ]
     },
     "execution_count": 176,
     "metadata": {},
     "output_type": "execute_result"
    }
   ],
   "source": [
    "tdcFreqs"
   ]
  },
  {
   "cell_type": "code",
   "execution_count": 127,
   "metadata": {},
   "outputs": [
    {
     "data": {
      "text/plain": [
       "array([1714.2948, 3724.0451, 3845.2651])"
      ]
     },
     "execution_count": 127,
     "metadata": {},
     "output_type": "execute_result"
    }
   ],
   "source": [
    "h2oMonomer.frequencies"
   ]
  },
  {
   "cell_type": "code",
   "execution_count": 146,
   "metadata": {},
   "outputs": [
    {
     "data": {
      "text/plain": [
       "75.5559"
      ]
     },
     "execution_count": 146,
     "metadata": {},
     "output_type": "execute_result"
    }
   ],
   "source": [
    "h2oMonomer.irIntensities[0]"
   ]
  },
  {
   "cell_type": "code",
   "execution_count": 148,
   "metadata": {},
   "outputs": [],
   "source": [
    "u1 = np.matmul(np.concatenate((h2oMonomer.irIntensities,h2oMonomer.irIntensities),axis=0).T,vecs).T"
   ]
  },
  {
   "cell_type": "code",
   "execution_count": 155,
   "metadata": {},
   "outputs": [
    {
     "data": {
      "text/plain": [
       "array([[ 1.03149269e+00, -1.08564876e+02, -6.21186805e-01,\n",
       "         2.46149529e+00, -1.08832066e+00,  2.72363349e+01],\n",
       "       [-1.08564876e+02,  1.14264818e+04,  6.53800746e+01,\n",
       "        -2.59073026e+02,  1.14546036e+02, -2.86663140e+03],\n",
       "       [-6.21186805e-01,  6.53800746e+01,  3.74091889e-01,\n",
       "        -1.48236475e+00,  6.55409821e-01, -1.64022994e+01],\n",
       "       [ 2.46149529e+00, -2.59073026e+02, -1.48236475e+00,\n",
       "         5.87397191e+00, -2.59710633e+00,  6.49952354e+01],\n",
       "       [-1.08832066e+00,  1.14546036e+02,  6.55409821e-01,\n",
       "        -2.59710633e+00,  1.14827946e+00, -2.87368650e+01],\n",
       "       [ 2.72363349e+01, -2.86663140e+03, -1.64022994e+01,\n",
       "         6.49952354e+01, -2.87368650e+01,  7.19169362e+02]])"
      ]
     },
     "execution_count": 155,
     "metadata": {},
     "output_type": "execute_result"
    }
   ],
   "source": [
    "np.outer(u1,u1)"
   ]
  },
  {
   "cell_type": "code",
   "execution_count": 156,
   "metadata": {},
   "outputs": [],
   "source": [
    "oscStrength = np.sqrt(np.diag(np.outer(u1,u1)))"
   ]
  },
  {
   "cell_type": "code",
   "execution_count": 157,
   "metadata": {},
   "outputs": [
    {
     "name": "stdout",
     "output_type": "stream",
     "text": [
      "[  1.01562428 106.8947229    0.61163052   2.42362784   1.07157802\n",
      "  26.81733323]\n"
     ]
    }
   ],
   "source": [
    "print(oscStrength)"
   ]
  },
  {
   "cell_type": "code",
   "execution_count": 158,
   "metadata": {},
   "outputs": [
    {
     "name": "stdout",
     "output_type": "stream",
     "text": [
      "[1707.50013932 1720.66356151 3723.93501714 3724.07296492 3841.83598818\n",
      " 3848.98630845]\n"
     ]
    }
   ],
   "source": [
    "print(tdcFreqs)"
   ]
  },
  {
   "cell_type": "code",
   "execution_count": 159,
   "metadata": {},
   "outputs": [
    {
     "data": {
      "text/plain": [
       "array([75.5559,  1.6658, 19.1199])"
      ]
     },
     "execution_count": 159,
     "metadata": {},
     "output_type": "execute_result"
    }
   ],
   "source": [
    "h2oMonomer.irIntensities"
   ]
  },
  {
   "cell_type": "code",
   "execution_count": null,
   "metadata": {},
   "outputs": [],
   "source": []
  }
 ],
 "metadata": {
  "kernelspec": {
   "display_name": "Python 3",
   "language": "python",
   "name": "python3"
  },
  "language_info": {
   "codemirror_mode": {
    "name": "ipython",
    "version": 3
   },
   "file_extension": ".py",
   "mimetype": "text/x-python",
   "name": "python",
   "nbconvert_exporter": "python",
   "pygments_lexer": "ipython3",
   "version": "3.7.1"
  }
 },
 "nbformat": 4,
 "nbformat_minor": 2
}
