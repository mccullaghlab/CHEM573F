{
 "cells": [
  {
   "cell_type": "code",
   "execution_count": 6,
   "metadata": {},
   "outputs": [],
   "source": [
    "%matplotlib inline\n",
    "import numpy as np\n",
    "import matplotlib.pyplot as plt\n",
    "import gaussianWave as gw"
   ]
  },
  {
   "cell_type": "code",
   "execution_count": 7,
   "metadata": {},
   "outputs": [],
   "source": [
    "psi0 = gw.gaussianWavefunction(\"ethylene_casscf_2_6.fchk\",\"ethylene_casscf_2_6.log\")"
   ]
  },
  {
   "cell_type": "code",
   "execution_count": 12,
   "metadata": {},
   "outputs": [
    {
     "data": {
      "text/plain": [
       "[<matplotlib.lines.Line2D at 0x114176d30>]"
      ]
     },
     "execution_count": 12,
     "metadata": {},
     "output_type": "execute_result"
    },
    {
     "data": {
      "image/png": "[encoded data removed]",
      "text/plain": [
       "<Figure size 432x288 with 1 Axes>"
      ]
     },
     "metadata": {},
     "output_type": "display_data"
    }
   ],
   "source": [
    "zrange = np.arange(-10,15,0.01)\n",
    "val = np.ones((zrange.shape[0],10),dtype=float)\n",
    "for i,z in enumerate(zrange):\n",
    "    val[i,:] *= psi0.mo_values([0,0,z])[:10]\n",
    "plt.plot(zrange,val[:,0])\n",
    "plt.plot(zrange,val[:,1])"
   ]
  },
  {
   "cell_type": "code",
   "execution_count": 227,
   "metadata": {},
   "outputs": [
    {
     "data": {
      "text/plain": [
       "[<matplotlib.lines.Line2D at 0x1212aaba8>]"
      ]
     },
     "execution_count": 227,
     "metadata": {},
     "output_type": "execute_result"
    },
    {
     "data": {
      "image/png": "[encoded data removed]",
      "text/plain": [
       "<Figure size 432x288 with 1 Axes>"
      ]
     },
     "metadata": {},
     "output_type": "display_data"
    }
   ],
   "source": [
    "plt.plot(zrange,val[:,2])\n",
    "plt.plot(zrange,val[:,3])"
   ]
  },
  {
   "cell_type": "code",
   "execution_count": 5,
   "metadata": {},
   "outputs": [],
   "source": [
    "psi1 = gaussianWavefunction(\"ethylene_casscf_2_6.root2.fchk\",\"ethylene_casscf_2_6.root2.log\")"
   ]
  },
  {
   "cell_type": "code",
   "execution_count": 6,
   "metadata": {},
   "outputs": [
    {
     "data": {
      "text/plain": [
       "array([1.        , 1.        , 1.        , 1.        , 1.        ,\n",
       "       1.        , 1.        , 0.70438981, 0.70438981, 0.06192738,\n",
       "       0.06192738, 0.        , 0.        , 0.        , 0.        ,\n",
       "       0.        , 0.        , 0.        , 0.        , 0.        ,\n",
       "       0.        , 0.        , 0.        , 0.        , 0.        ,\n",
       "       0.        , 0.        , 0.        , 0.        , 0.        ,\n",
       "       0.        , 0.        , 0.        , 0.        , 0.        ,\n",
       "       0.        , 0.        , 0.        , 0.        , 0.        ,\n",
       "       0.        , 0.        , 0.        , 0.        , 0.        ,\n",
       "       0.        , 0.        , 0.        , 0.        , 0.        ,\n",
       "       0.        , 0.        , 0.        , 0.        , 0.        ,\n",
       "       0.        , 0.        , 0.        , 0.        , 0.        ,\n",
       "       0.        , 0.        , 0.        , 0.        , 0.        ,\n",
       "       0.        , 0.        , 0.        , 0.        , 0.        ,\n",
       "       0.        , 0.        ])"
      ]
     },
     "execution_count": 6,
     "metadata": {},
     "output_type": "execute_result"
    }
   ],
   "source": [
    "psi1.occupancies"
   ]
  },
  {
   "cell_type": "markdown",
   "metadata": {},
   "source": [
    "$ \\int \\Psi_1(r^N) \\hat{\\mu} \\Psi_0(r^N) dr^N  $ \n",
    "\n",
    "$ = \\int \\prod_{i,j}\\chi_{1,i} \\sum_kr_k \\chi_{0,j}dr^N$"
   ]
  },
  {
   "cell_type": "code",
   "execution_count": 19,
   "metadata": {},
   "outputs": [],
   "source": [
    "def compute_dipole_moment(psi1,psi0,xRange,yRange,zRange):\n",
    "    \n",
    "    dipoleInt = np.zeros(3,dtype=float)\n",
    "    for x in xRange:\n",
    "        for y in yRange:\n",
    "            for z in zRange:\n",
    "                psi0MOs = psi0.mo_values([x,y,z])\n",
    "                psi1MOs = psi1.mo_values([x,y,z])\n",
    "                psi0MOs *= psi0.occupancies\n",
    "                psi1MOs *= psi1.occupancies\n",
    "                for i in range(psi0.nBasisFunctions):\n",
    "                    for j in range(psi1.nBasisFunctions):\n",
    "                        dipoleInt[0] = psi0MOs[i]*x*psi1MOs[j]\n",
    "                        dipoleInt[1] = psi0MOs[i]*y*psi1MOs[j]\n",
    "                        dipoleInt[2] = psi0MOs[i]*z*psi1MOs[j]\n",
    "    return dipoleInt"
   ]
  },
  {
   "cell_type": "code",
   "execution_count": null,
   "metadata": {},
   "outputs": [],
   "source": [
    "xRange = np.arange(-10,10,0.1)\n",
    "yRange = np.arange(-10,10,0.1)\n",
    "zRange = np.arange(-10,10,0.1)\n",
    "mu = compute_dipole_moment(psi0,psi0,xRange,yRange,zRange)"
   ]
  },
  {
   "cell_type": "code",
   "execution_count": null,
   "metadata": {},
   "outputs": [],
   "source": [
    "print(mu)"
   ]
  },
  {
   "cell_type": "code",
   "execution_count": null,
   "metadata": {},
   "outputs": [],
   "source": []
  }
 ],
 "metadata": {
  "kernelspec": {
   "display_name": "Python 3",
   "language": "python",
   "name": "python3"
  },
  "language_info": {
   "codemirror_mode": {
    "name": "ipython",
    "version": 3
   },
   "file_extension": ".py",
   "mimetype": "text/x-python",
   "name": "python",
   "nbconvert_exporter": "python",
   "pygments_lexer": "ipython3",
   "version": "3.7.1"
  }
 },
 "nbformat": 4,
 "nbformat_minor": 2
}
